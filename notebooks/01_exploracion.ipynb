{
 "cells": [
  {
   "cell_type": "code",
   "execution_count": null,
   "id": "479d1df8",
   "metadata": {},
   "outputs": [],
   "source": [
    "import sys, os\n",
    "sys.path.append(os.path.abspath(\"..\"))\n",
    "print(sys.path)  # Para verificar que notebooks pueda ver src/\n"
   ]
  },
  {
   "cell_type": "code",
   "execution_count": null,
   "id": "10a9c726",
   "metadata": {},
   "outputs": [],
   "source": [
    "from src import data_preprocessing\n",
    "print(dir(data_preprocessing))\n"
   ]
  },
  {
   "cell_type": "code",
   "execution_count": null,
   "id": "6693e189",
   "metadata": {},
   "outputs": [],
   "source": [
    "import os\n",
    "print(\"Current working directory:\", os.getcwd())\n"
   ]
  },
  {
   "cell_type": "code",
   "execution_count": null,
   "id": "632e9a56",
   "metadata": {},
   "outputs": [],
   "source": [
    "import pandas as pd\n",
    "\n",
    "# Intenta leer solo las primeras 5 filas\n",
    "df_sample = pd.read_csv(\"data/raw/churn.csv\", nrows=5)\n",
    "\n",
    "print(\"Shape (sample):\", df_sample.shape)\n",
    "print(df_sample.head())\n"
   ]
  },
  {
   "cell_type": "code",
   "execution_count": 15,
   "id": "8310f649",
   "metadata": {},
   "outputs": [
    {
     "name": "stdout",
     "output_type": "stream",
     "text": [
      "Loading data from: c:\\Users\\ramon\\Documents\\proyectos_datos\\customer_churn_predictor\\data/raw/churn.csv\n"
     ]
    }
   ],
   "source": [
    "from src.data_preprocessing import load_data, clean_data, save_clean_data\n",
    "\n",
    "# Load raw data\n",
    "df_raw = load_data()\n",
    "\n",
    "# Clean data\n",
    "df_clean = clean_data(df_raw)\n",
    "\n",
    "# Save cleaned data\n",
    "save_clean_data(df_clean)\n",
    "\n"
   ]
  }
 ],
 "metadata": {
  "kernelspec": {
   "display_name": "venv",
   "language": "python",
   "name": "python3"
  },
  "language_info": {
   "codemirror_mode": {
    "name": "ipython",
    "version": 3
   },
   "file_extension": ".py",
   "mimetype": "text/x-python",
   "name": "python",
   "nbconvert_exporter": "python",
   "pygments_lexer": "ipython3",
   "version": "3.12.6"
  }
 },
 "nbformat": 4,
 "nbformat_minor": 5
}
