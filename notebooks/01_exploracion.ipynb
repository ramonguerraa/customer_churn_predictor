{
 "cells": [
  {
   "cell_type": "code",
   "execution_count": 1,
   "id": "8310f649",
   "metadata": {},
   "outputs": [
    {
     "name": "stdout",
     "output_type": "stream",
     "text": [
      "Loading data from: c:\\Users\\ramon\\Documents\\proyectos_datos\\customer_churn_predictor\\data\\raw\\churn.csv\n",
      "Saving cleaned data to: c:\\Users\\ramon\\Documents\\proyectos_datos\\customer_churn_predictor\\data\\processed\\churn_clean.csv\n"
     ]
    }
   ],
   "source": [
    "from src.data_preprocessing import load_data, clean_data, save_clean_data\n",
    "\n",
    "# Load raw data\n",
    "df_raw = load_data()\n",
    "\n",
    "# Clean data\n",
    "df_clean = clean_data(df_raw)\n",
    "\n",
    "# Save cleaned data\n",
    "save_clean_data(df_clean)\n",
    "\n"
   ]
  }
 ],
 "metadata": {
  "kernelspec": {
   "display_name": "venv",
   "language": "python",
   "name": "python3"
  },
  "language_info": {
   "codemirror_mode": {
    "name": "ipython",
    "version": 3
   },
   "file_extension": ".py",
   "mimetype": "text/x-python",
   "name": "python",
   "nbconvert_exporter": "python",
   "pygments_lexer": "ipython3",
   "version": "3.12.6"
  }
 },
 "nbformat": 4,
 "nbformat_minor": 5
}
